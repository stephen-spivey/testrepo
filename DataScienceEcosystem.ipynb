{
 "cells": [
  {
   "cell_type": "markdown",
   "id": "4f4b4dee-cc05-4855-a0ff-9397e5472e2f",
   "metadata": {},
   "source": [
    "# Data Science Tools and Ecosystem"
   ]
  },
  {
   "cell_type": "markdown",
   "id": "34f7c0c6-23d5-4d36-89ee-cb32e5fc68b1",
   "metadata": {},
   "source": [
    "In this notebook, Data Science Tools and Ecosystem are summarized."
   ]
  },
  {
   "cell_type": "markdown",
   "id": "442f3d4f-fdfd-4a1b-8cfc-97cf7e4ce8ad",
   "metadata": {},
   "source": [
    "Some of the popular languages that Data Scientists use are:\n",
    "* Python\n",
    "* R\n",
    "* SQL"
   ]
  },
  {
   "cell_type": "markdown",
   "id": "fb237fb9-5b5b-49fa-9f9c-242ab1621378",
   "metadata": {},
   "source": [
    "Some of the commonly used libraries used by Data Scientists include:\n",
    "* NumPy\n",
    "* pandas\n",
    "* Matplotlib"
   ]
  },
  {
   "cell_type": "markdown",
   "id": "9368d475-844d-46ed-a670-a7bbd4e57e68",
   "metadata": {
    "tags": []
   },
   "source": [
    "## Data Science Tools\n",
    "* Visual Studio Code\n",
    "* MySQL\n",
    "* Jupyter Notebooks"
   ]
  },
  {
   "cell_type": "markdown",
   "id": "b9ce4e19-10e5-479b-88f4-89cf4f7de076",
   "metadata": {},
   "source": [
    "### Below are a few examples of evaluating arithmetic expressions in Python"
   ]
  },
  {
   "cell_type": "code",
   "execution_count": 2,
   "id": "bb3933ca-9b40-4be6-8c32-a708d9ce1dcc",
   "metadata": {
    "tags": []
   },
   "outputs": [
    {
     "data": {
      "text/plain": [
       "17"
      ]
     },
     "execution_count": 2,
     "metadata": {},
     "output_type": "execute_result"
    }
   ],
   "source": [
    "(3*4)+5\n",
    "\n",
    "## This a simple arithmetic expression to mutiply then add integers."
   ]
  },
  {
   "cell_type": "code",
   "execution_count": 3,
   "id": "84ebc6c3-2e19-45e0-b064-e2f7d05dc7b4",
   "metadata": {
    "tags": []
   },
   "outputs": [
    {
     "name": "stdout",
     "output_type": "stream",
     "text": [
      "200 minutes is equal to 3.3333333333333335 hours\n"
     ]
    }
   ],
   "source": [
    "# This will convert 200 minutes to hours by diving by 60\n",
    "minutes = 200\n",
    "hours = minutes / 60\n",
    "print(\"200 minutes is equal to\", hours, \"hours\")\n"
   ]
  },
  {
   "cell_type": "markdown",
   "id": "65bdac48-e677-44f0-8928-fc9bfb2718b2",
   "metadata": {},
   "source": [
    "# Objectives:\n",
    "- list popular languages for Data Science\n",
    "- list commonly used libraries in Data Science\n",
    "- list common open-source tools used in Data Science"
   ]
  },
  {
   "cell_type": "markdown",
   "id": "f40086d5-b8de-4890-8f54-c567e2c3ae83",
   "metadata": {},
   "source": [
    "## Author\n",
    "Stephen Spivey"
   ]
  }
 ],
 "metadata": {
  "kernelspec": {
   "display_name": "Python 3 (ipykernel)",
   "language": "python",
   "name": "python3"
  },
  "language_info": {
   "codemirror_mode": {
    "name": "ipython",
    "version": 3
   },
   "file_extension": ".py",
   "mimetype": "text/x-python",
   "name": "python",
   "nbconvert_exporter": "python",
   "pygments_lexer": "ipython3",
   "version": "3.11.4"
  }
 },
 "nbformat": 4,
 "nbformat_minor": 5
}
